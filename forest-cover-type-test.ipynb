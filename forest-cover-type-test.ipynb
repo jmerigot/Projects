{
 "cells": [
  {
   "cell_type": "code",
   "execution_count": 1,
   "id": "edf16204",
   "metadata": {
    "_cell_guid": "b1076dfc-b9ad-4769-8c92-a6c4dae69d19",
    "_uuid": "8f2839f25d086af736a60e9eeb907d3b93b6e0e5",
    "execution": {
     "iopub.execute_input": "2021-10-26T16:49:41.731592Z",
     "iopub.status.busy": "2021-10-26T16:49:41.730892Z",
     "iopub.status.idle": "2021-10-26T16:49:41.739839Z",
     "shell.execute_reply": "2021-10-26T16:49:41.738748Z",
     "shell.execute_reply.started": "2021-10-26T15:40:46.402023Z"
    },
    "papermill": {
     "duration": 0.042756,
     "end_time": "2021-10-26T16:49:41.740073",
     "exception": false,
     "start_time": "2021-10-26T16:49:41.697317",
     "status": "completed"
    },
    "tags": []
   },
   "outputs": [
    {
     "name": "stdout",
     "output_type": "stream",
     "text": [
      "/kaggle/input/forest-cover-type-prediction/train.csv.zip\n",
      "/kaggle/input/forest-cover-type-prediction/sampleSubmission.csv\n",
      "/kaggle/input/forest-cover-type-prediction/sampleSubmission.csv.zip\n",
      "/kaggle/input/forest-cover-type-prediction/test3.csv\n",
      "/kaggle/input/forest-cover-type-prediction/train.csv\n",
      "/kaggle/input/forest-cover-type-prediction/test.csv\n",
      "/kaggle/input/forest-cover-type-prediction/test.csv.zip\n"
     ]
    }
   ],
   "source": [
    "# This Python 3 environment comes with many helpful analytics libraries installed\n",
    "# It is defined by the kaggle/python Docker image: https://github.com/kaggle/docker-python\n",
    "# For example, here's several helpful packages to load\n",
    "\n",
    "import numpy as np # linear algebra\n",
    "import pandas as pd # data processing, CSV file I/O (e.g. pd.read_csv)\n",
    "import matplotlib.pyplot as mtpltl\n",
    "\n",
    "# Input data files are available in the read-only \"../input/\" directory\n",
    "# For example, running this (by clicking run or pressing Shift+Enter) will list all files under the input directory\n",
    "\n",
    "import os\n",
    "for dirname, _, filenames in os.walk('/kaggle/input'):\n",
    "    for filename in filenames:\n",
    "        print(os.path.join(dirname, filename))\n",
    "\n",
    "# You can write up to 20GB to the current directory (/kaggle/working/) that gets preserved as output when you create a version using \"Save & Run All\" \n",
    "# You can also write temporary files to /kaggle/temp/, but they won't be saved outside of the current session"
   ]
  },
  {
   "cell_type": "code",
   "execution_count": 2,
   "id": "1e53a0cd",
   "metadata": {
    "execution": {
     "iopub.execute_input": "2021-10-26T16:49:41.782568Z",
     "iopub.status.busy": "2021-10-26T16:49:41.781887Z",
     "iopub.status.idle": "2021-10-26T16:49:41.911698Z",
     "shell.execute_reply": "2021-10-26T16:49:41.911069Z",
     "shell.execute_reply.started": "2021-10-26T15:40:49.430504Z"
    },
    "papermill": {
     "duration": 0.152692,
     "end_time": "2021-10-26T16:49:41.911849",
     "exception": false,
     "start_time": "2021-10-26T16:49:41.759157",
     "status": "completed"
    },
    "tags": []
   },
   "outputs": [
    {
     "data": {
      "text/html": [
       "<div>\n",
       "<style scoped>\n",
       "    .dataframe tbody tr th:only-of-type {\n",
       "        vertical-align: middle;\n",
       "    }\n",
       "\n",
       "    .dataframe tbody tr th {\n",
       "        vertical-align: top;\n",
       "    }\n",
       "\n",
       "    .dataframe thead th {\n",
       "        text-align: right;\n",
       "    }\n",
       "</style>\n",
       "<table border=\"1\" class=\"dataframe\">\n",
       "  <thead>\n",
       "    <tr style=\"text-align: right;\">\n",
       "      <th></th>\n",
       "      <th>Id</th>\n",
       "      <th>Elevation</th>\n",
       "      <th>Aspect</th>\n",
       "      <th>Slope</th>\n",
       "      <th>Horizontal_Distance_To_Hydrology</th>\n",
       "      <th>Vertical_Distance_To_Hydrology</th>\n",
       "      <th>Horizontal_Distance_To_Roadways</th>\n",
       "      <th>Hillshade_9am</th>\n",
       "      <th>Hillshade_Noon</th>\n",
       "      <th>Hillshade_3pm</th>\n",
       "      <th>...</th>\n",
       "      <th>Soil_Type32</th>\n",
       "      <th>Soil_Type33</th>\n",
       "      <th>Soil_Type34</th>\n",
       "      <th>Soil_Type35</th>\n",
       "      <th>Soil_Type36</th>\n",
       "      <th>Soil_Type37</th>\n",
       "      <th>Soil_Type38</th>\n",
       "      <th>Soil_Type39</th>\n",
       "      <th>Soil_Type40</th>\n",
       "      <th>Cover_Type</th>\n",
       "    </tr>\n",
       "  </thead>\n",
       "  <tbody>\n",
       "    <tr>\n",
       "      <th>0</th>\n",
       "      <td>1</td>\n",
       "      <td>2596</td>\n",
       "      <td>51</td>\n",
       "      <td>3</td>\n",
       "      <td>258</td>\n",
       "      <td>0</td>\n",
       "      <td>510</td>\n",
       "      <td>221</td>\n",
       "      <td>232</td>\n",
       "      <td>148</td>\n",
       "      <td>...</td>\n",
       "      <td>0</td>\n",
       "      <td>0</td>\n",
       "      <td>0</td>\n",
       "      <td>0</td>\n",
       "      <td>0</td>\n",
       "      <td>0</td>\n",
       "      <td>0</td>\n",
       "      <td>0</td>\n",
       "      <td>0</td>\n",
       "      <td>5</td>\n",
       "    </tr>\n",
       "    <tr>\n",
       "      <th>1</th>\n",
       "      <td>2</td>\n",
       "      <td>2590</td>\n",
       "      <td>56</td>\n",
       "      <td>2</td>\n",
       "      <td>212</td>\n",
       "      <td>-6</td>\n",
       "      <td>390</td>\n",
       "      <td>220</td>\n",
       "      <td>235</td>\n",
       "      <td>151</td>\n",
       "      <td>...</td>\n",
       "      <td>0</td>\n",
       "      <td>0</td>\n",
       "      <td>0</td>\n",
       "      <td>0</td>\n",
       "      <td>0</td>\n",
       "      <td>0</td>\n",
       "      <td>0</td>\n",
       "      <td>0</td>\n",
       "      <td>0</td>\n",
       "      <td>5</td>\n",
       "    </tr>\n",
       "    <tr>\n",
       "      <th>2</th>\n",
       "      <td>3</td>\n",
       "      <td>2804</td>\n",
       "      <td>139</td>\n",
       "      <td>9</td>\n",
       "      <td>268</td>\n",
       "      <td>65</td>\n",
       "      <td>3180</td>\n",
       "      <td>234</td>\n",
       "      <td>238</td>\n",
       "      <td>135</td>\n",
       "      <td>...</td>\n",
       "      <td>0</td>\n",
       "      <td>0</td>\n",
       "      <td>0</td>\n",
       "      <td>0</td>\n",
       "      <td>0</td>\n",
       "      <td>0</td>\n",
       "      <td>0</td>\n",
       "      <td>0</td>\n",
       "      <td>0</td>\n",
       "      <td>2</td>\n",
       "    </tr>\n",
       "    <tr>\n",
       "      <th>3</th>\n",
       "      <td>4</td>\n",
       "      <td>2785</td>\n",
       "      <td>155</td>\n",
       "      <td>18</td>\n",
       "      <td>242</td>\n",
       "      <td>118</td>\n",
       "      <td>3090</td>\n",
       "      <td>238</td>\n",
       "      <td>238</td>\n",
       "      <td>122</td>\n",
       "      <td>...</td>\n",
       "      <td>0</td>\n",
       "      <td>0</td>\n",
       "      <td>0</td>\n",
       "      <td>0</td>\n",
       "      <td>0</td>\n",
       "      <td>0</td>\n",
       "      <td>0</td>\n",
       "      <td>0</td>\n",
       "      <td>0</td>\n",
       "      <td>2</td>\n",
       "    </tr>\n",
       "    <tr>\n",
       "      <th>4</th>\n",
       "      <td>5</td>\n",
       "      <td>2595</td>\n",
       "      <td>45</td>\n",
       "      <td>2</td>\n",
       "      <td>153</td>\n",
       "      <td>-1</td>\n",
       "      <td>391</td>\n",
       "      <td>220</td>\n",
       "      <td>234</td>\n",
       "      <td>150</td>\n",
       "      <td>...</td>\n",
       "      <td>0</td>\n",
       "      <td>0</td>\n",
       "      <td>0</td>\n",
       "      <td>0</td>\n",
       "      <td>0</td>\n",
       "      <td>0</td>\n",
       "      <td>0</td>\n",
       "      <td>0</td>\n",
       "      <td>0</td>\n",
       "      <td>5</td>\n",
       "    </tr>\n",
       "  </tbody>\n",
       "</table>\n",
       "<p>5 rows × 56 columns</p>\n",
       "</div>"
      ],
      "text/plain": [
       "   Id  Elevation  Aspect  Slope  Horizontal_Distance_To_Hydrology  \\\n",
       "0   1       2596      51      3                               258   \n",
       "1   2       2590      56      2                               212   \n",
       "2   3       2804     139      9                               268   \n",
       "3   4       2785     155     18                               242   \n",
       "4   5       2595      45      2                               153   \n",
       "\n",
       "   Vertical_Distance_To_Hydrology  Horizontal_Distance_To_Roadways  \\\n",
       "0                               0                              510   \n",
       "1                              -6                              390   \n",
       "2                              65                             3180   \n",
       "3                             118                             3090   \n",
       "4                              -1                              391   \n",
       "\n",
       "   Hillshade_9am  Hillshade_Noon  Hillshade_3pm  ...  Soil_Type32  \\\n",
       "0            221             232            148  ...            0   \n",
       "1            220             235            151  ...            0   \n",
       "2            234             238            135  ...            0   \n",
       "3            238             238            122  ...            0   \n",
       "4            220             234            150  ...            0   \n",
       "\n",
       "   Soil_Type33  Soil_Type34  Soil_Type35  Soil_Type36  Soil_Type37  \\\n",
       "0            0            0            0            0            0   \n",
       "1            0            0            0            0            0   \n",
       "2            0            0            0            0            0   \n",
       "3            0            0            0            0            0   \n",
       "4            0            0            0            0            0   \n",
       "\n",
       "   Soil_Type38  Soil_Type39  Soil_Type40  Cover_Type  \n",
       "0            0            0            0           5  \n",
       "1            0            0            0           5  \n",
       "2            0            0            0           2  \n",
       "3            0            0            0           2  \n",
       "4            0            0            0           5  \n",
       "\n",
       "[5 rows x 56 columns]"
      ]
     },
     "execution_count": 2,
     "metadata": {},
     "output_type": "execute_result"
    }
   ],
   "source": [
    "train_data=pd.read_csv('/kaggle/input/forest-cover-type-prediction/train.csv')\n",
    "train_data.head()"
   ]
  },
  {
   "cell_type": "code",
   "execution_count": 3,
   "id": "2b27324d",
   "metadata": {
    "execution": {
     "iopub.execute_input": "2021-10-26T16:49:41.955633Z",
     "iopub.status.busy": "2021-10-26T16:49:41.954888Z",
     "iopub.status.idle": "2021-10-26T16:49:41.980255Z",
     "shell.execute_reply": "2021-10-26T16:49:41.980829Z",
     "shell.execute_reply.started": "2021-10-26T15:57:49.632480Z"
    },
    "papermill": {
     "duration": 0.049411,
     "end_time": "2021-10-26T16:49:41.981009",
     "exception": false,
     "start_time": "2021-10-26T16:49:41.931598",
     "status": "completed"
    },
    "tags": []
   },
   "outputs": [
    {
     "name": "stdout",
     "output_type": "stream",
     "text": [
      "<class 'pandas.core.frame.DataFrame'>\n",
      "RangeIndex: 15120 entries, 0 to 15119\n",
      "Data columns (total 56 columns):\n",
      " #   Column                              Non-Null Count  Dtype\n",
      "---  ------                              --------------  -----\n",
      " 0   Id                                  15120 non-null  int64\n",
      " 1   Elevation                           15120 non-null  int64\n",
      " 2   Aspect                              15120 non-null  int64\n",
      " 3   Slope                               15120 non-null  int64\n",
      " 4   Horizontal_Distance_To_Hydrology    15120 non-null  int64\n",
      " 5   Vertical_Distance_To_Hydrology      15120 non-null  int64\n",
      " 6   Horizontal_Distance_To_Roadways     15120 non-null  int64\n",
      " 7   Hillshade_9am                       15120 non-null  int64\n",
      " 8   Hillshade_Noon                      15120 non-null  int64\n",
      " 9   Hillshade_3pm                       15120 non-null  int64\n",
      " 10  Horizontal_Distance_To_Fire_Points  15120 non-null  int64\n",
      " 11  Wilderness_Area1                    15120 non-null  int64\n",
      " 12  Wilderness_Area2                    15120 non-null  int64\n",
      " 13  Wilderness_Area3                    15120 non-null  int64\n",
      " 14  Wilderness_Area4                    15120 non-null  int64\n",
      " 15  Soil_Type1                          15120 non-null  int64\n",
      " 16  Soil_Type2                          15120 non-null  int64\n",
      " 17  Soil_Type3                          15120 non-null  int64\n",
      " 18  Soil_Type4                          15120 non-null  int64\n",
      " 19  Soil_Type5                          15120 non-null  int64\n",
      " 20  Soil_Type6                          15120 non-null  int64\n",
      " 21  Soil_Type7                          15120 non-null  int64\n",
      " 22  Soil_Type8                          15120 non-null  int64\n",
      " 23  Soil_Type9                          15120 non-null  int64\n",
      " 24  Soil_Type10                         15120 non-null  int64\n",
      " 25  Soil_Type11                         15120 non-null  int64\n",
      " 26  Soil_Type12                         15120 non-null  int64\n",
      " 27  Soil_Type13                         15120 non-null  int64\n",
      " 28  Soil_Type14                         15120 non-null  int64\n",
      " 29  Soil_Type15                         15120 non-null  int64\n",
      " 30  Soil_Type16                         15120 non-null  int64\n",
      " 31  Soil_Type17                         15120 non-null  int64\n",
      " 32  Soil_Type18                         15120 non-null  int64\n",
      " 33  Soil_Type19                         15120 non-null  int64\n",
      " 34  Soil_Type20                         15120 non-null  int64\n",
      " 35  Soil_Type21                         15120 non-null  int64\n",
      " 36  Soil_Type22                         15120 non-null  int64\n",
      " 37  Soil_Type23                         15120 non-null  int64\n",
      " 38  Soil_Type24                         15120 non-null  int64\n",
      " 39  Soil_Type25                         15120 non-null  int64\n",
      " 40  Soil_Type26                         15120 non-null  int64\n",
      " 41  Soil_Type27                         15120 non-null  int64\n",
      " 42  Soil_Type28                         15120 non-null  int64\n",
      " 43  Soil_Type29                         15120 non-null  int64\n",
      " 44  Soil_Type30                         15120 non-null  int64\n",
      " 45  Soil_Type31                         15120 non-null  int64\n",
      " 46  Soil_Type32                         15120 non-null  int64\n",
      " 47  Soil_Type33                         15120 non-null  int64\n",
      " 48  Soil_Type34                         15120 non-null  int64\n",
      " 49  Soil_Type35                         15120 non-null  int64\n",
      " 50  Soil_Type36                         15120 non-null  int64\n",
      " 51  Soil_Type37                         15120 non-null  int64\n",
      " 52  Soil_Type38                         15120 non-null  int64\n",
      " 53  Soil_Type39                         15120 non-null  int64\n",
      " 54  Soil_Type40                         15120 non-null  int64\n",
      " 55  Cover_Type                          15120 non-null  int64\n",
      "dtypes: int64(56)\n",
      "memory usage: 6.5 MB\n"
     ]
    }
   ],
   "source": [
    "train_data.info()"
   ]
  },
  {
   "cell_type": "code",
   "execution_count": 4,
   "id": "2b6d559f",
   "metadata": {
    "execution": {
     "iopub.execute_input": "2021-10-26T16:49:42.022812Z",
     "iopub.status.busy": "2021-10-26T16:49:42.022132Z",
     "iopub.status.idle": "2021-10-26T16:49:44.778511Z",
     "shell.execute_reply": "2021-10-26T16:49:44.777940Z",
     "shell.execute_reply.started": "2021-10-26T15:58:00.153829Z"
    },
    "papermill": {
     "duration": 2.778491,
     "end_time": "2021-10-26T16:49:44.778661",
     "exception": false,
     "start_time": "2021-10-26T16:49:42.000170",
     "status": "completed"
    },
    "tags": []
   },
   "outputs": [
    {
     "data": {
      "text/html": [
       "<div>\n",
       "<style scoped>\n",
       "    .dataframe tbody tr th:only-of-type {\n",
       "        vertical-align: middle;\n",
       "    }\n",
       "\n",
       "    .dataframe tbody tr th {\n",
       "        vertical-align: top;\n",
       "    }\n",
       "\n",
       "    .dataframe thead th {\n",
       "        text-align: right;\n",
       "    }\n",
       "</style>\n",
       "<table border=\"1\" class=\"dataframe\">\n",
       "  <thead>\n",
       "    <tr style=\"text-align: right;\">\n",
       "      <th></th>\n",
       "      <th>Id</th>\n",
       "      <th>Elevation</th>\n",
       "      <th>Aspect</th>\n",
       "      <th>Slope</th>\n",
       "      <th>Horizontal_Distance_To_Hydrology</th>\n",
       "      <th>Vertical_Distance_To_Hydrology</th>\n",
       "      <th>Horizontal_Distance_To_Roadways</th>\n",
       "      <th>Hillshade_9am</th>\n",
       "      <th>Hillshade_Noon</th>\n",
       "      <th>Hillshade_3pm</th>\n",
       "      <th>...</th>\n",
       "      <th>Soil_Type31</th>\n",
       "      <th>Soil_Type32</th>\n",
       "      <th>Soil_Type33</th>\n",
       "      <th>Soil_Type34</th>\n",
       "      <th>Soil_Type35</th>\n",
       "      <th>Soil_Type36</th>\n",
       "      <th>Soil_Type37</th>\n",
       "      <th>Soil_Type38</th>\n",
       "      <th>Soil_Type39</th>\n",
       "      <th>Soil_Type40</th>\n",
       "    </tr>\n",
       "  </thead>\n",
       "  <tbody>\n",
       "    <tr>\n",
       "      <th>0</th>\n",
       "      <td>15121</td>\n",
       "      <td>2680</td>\n",
       "      <td>354</td>\n",
       "      <td>14</td>\n",
       "      <td>0</td>\n",
       "      <td>0</td>\n",
       "      <td>2684</td>\n",
       "      <td>196</td>\n",
       "      <td>214</td>\n",
       "      <td>156</td>\n",
       "      <td>...</td>\n",
       "      <td>0</td>\n",
       "      <td>0</td>\n",
       "      <td>0</td>\n",
       "      <td>0</td>\n",
       "      <td>0</td>\n",
       "      <td>0</td>\n",
       "      <td>0</td>\n",
       "      <td>0</td>\n",
       "      <td>0</td>\n",
       "      <td>0</td>\n",
       "    </tr>\n",
       "    <tr>\n",
       "      <th>1</th>\n",
       "      <td>15122</td>\n",
       "      <td>2683</td>\n",
       "      <td>0</td>\n",
       "      <td>13</td>\n",
       "      <td>0</td>\n",
       "      <td>0</td>\n",
       "      <td>2654</td>\n",
       "      <td>201</td>\n",
       "      <td>216</td>\n",
       "      <td>152</td>\n",
       "      <td>...</td>\n",
       "      <td>0</td>\n",
       "      <td>0</td>\n",
       "      <td>0</td>\n",
       "      <td>0</td>\n",
       "      <td>0</td>\n",
       "      <td>0</td>\n",
       "      <td>0</td>\n",
       "      <td>0</td>\n",
       "      <td>0</td>\n",
       "      <td>0</td>\n",
       "    </tr>\n",
       "    <tr>\n",
       "      <th>2</th>\n",
       "      <td>15123</td>\n",
       "      <td>2713</td>\n",
       "      <td>16</td>\n",
       "      <td>15</td>\n",
       "      <td>0</td>\n",
       "      <td>0</td>\n",
       "      <td>2980</td>\n",
       "      <td>206</td>\n",
       "      <td>208</td>\n",
       "      <td>137</td>\n",
       "      <td>...</td>\n",
       "      <td>0</td>\n",
       "      <td>0</td>\n",
       "      <td>0</td>\n",
       "      <td>0</td>\n",
       "      <td>0</td>\n",
       "      <td>0</td>\n",
       "      <td>0</td>\n",
       "      <td>0</td>\n",
       "      <td>0</td>\n",
       "      <td>0</td>\n",
       "    </tr>\n",
       "    <tr>\n",
       "      <th>3</th>\n",
       "      <td>15124</td>\n",
       "      <td>2709</td>\n",
       "      <td>24</td>\n",
       "      <td>17</td>\n",
       "      <td>0</td>\n",
       "      <td>0</td>\n",
       "      <td>2950</td>\n",
       "      <td>208</td>\n",
       "      <td>201</td>\n",
       "      <td>125</td>\n",
       "      <td>...</td>\n",
       "      <td>0</td>\n",
       "      <td>0</td>\n",
       "      <td>0</td>\n",
       "      <td>0</td>\n",
       "      <td>0</td>\n",
       "      <td>0</td>\n",
       "      <td>0</td>\n",
       "      <td>0</td>\n",
       "      <td>0</td>\n",
       "      <td>0</td>\n",
       "    </tr>\n",
       "    <tr>\n",
       "      <th>4</th>\n",
       "      <td>15125</td>\n",
       "      <td>2706</td>\n",
       "      <td>29</td>\n",
       "      <td>19</td>\n",
       "      <td>0</td>\n",
       "      <td>0</td>\n",
       "      <td>2920</td>\n",
       "      <td>210</td>\n",
       "      <td>195</td>\n",
       "      <td>115</td>\n",
       "      <td>...</td>\n",
       "      <td>0</td>\n",
       "      <td>0</td>\n",
       "      <td>0</td>\n",
       "      <td>0</td>\n",
       "      <td>0</td>\n",
       "      <td>0</td>\n",
       "      <td>0</td>\n",
       "      <td>0</td>\n",
       "      <td>0</td>\n",
       "      <td>0</td>\n",
       "    </tr>\n",
       "  </tbody>\n",
       "</table>\n",
       "<p>5 rows × 55 columns</p>\n",
       "</div>"
      ],
      "text/plain": [
       "      Id  Elevation  Aspect  Slope  Horizontal_Distance_To_Hydrology  \\\n",
       "0  15121       2680     354     14                                 0   \n",
       "1  15122       2683       0     13                                 0   \n",
       "2  15123       2713      16     15                                 0   \n",
       "3  15124       2709      24     17                                 0   \n",
       "4  15125       2706      29     19                                 0   \n",
       "\n",
       "   Vertical_Distance_To_Hydrology  Horizontal_Distance_To_Roadways  \\\n",
       "0                               0                             2684   \n",
       "1                               0                             2654   \n",
       "2                               0                             2980   \n",
       "3                               0                             2950   \n",
       "4                               0                             2920   \n",
       "\n",
       "   Hillshade_9am  Hillshade_Noon  Hillshade_3pm  ...  Soil_Type31  \\\n",
       "0            196             214            156  ...            0   \n",
       "1            201             216            152  ...            0   \n",
       "2            206             208            137  ...            0   \n",
       "3            208             201            125  ...            0   \n",
       "4            210             195            115  ...            0   \n",
       "\n",
       "   Soil_Type32  Soil_Type33  Soil_Type34  Soil_Type35  Soil_Type36  \\\n",
       "0            0            0            0            0            0   \n",
       "1            0            0            0            0            0   \n",
       "2            0            0            0            0            0   \n",
       "3            0            0            0            0            0   \n",
       "4            0            0            0            0            0   \n",
       "\n",
       "   Soil_Type37  Soil_Type38  Soil_Type39  Soil_Type40  \n",
       "0            0            0            0            0  \n",
       "1            0            0            0            0  \n",
       "2            0            0            0            0  \n",
       "3            0            0            0            0  \n",
       "4            0            0            0            0  \n",
       "\n",
       "[5 rows x 55 columns]"
      ]
     },
     "execution_count": 4,
     "metadata": {},
     "output_type": "execute_result"
    }
   ],
   "source": [
    "test_data=pd.read_csv('/kaggle/input/forest-cover-type-prediction/test.csv')\n",
    "test_data.head()"
   ]
  },
  {
   "cell_type": "code",
   "execution_count": 5,
   "id": "375e4c6c",
   "metadata": {
    "execution": {
     "iopub.execute_input": "2021-10-26T16:49:44.824938Z",
     "iopub.status.busy": "2021-10-26T16:49:44.824210Z",
     "iopub.status.idle": "2021-10-26T16:49:44.892851Z",
     "shell.execute_reply": "2021-10-26T16:49:44.893371Z",
     "shell.execute_reply.started": "2021-10-26T15:58:16.370836Z"
    },
    "papermill": {
     "duration": 0.09391,
     "end_time": "2021-10-26T16:49:44.893567",
     "exception": false,
     "start_time": "2021-10-26T16:49:44.799657",
     "status": "completed"
    },
    "tags": []
   },
   "outputs": [
    {
     "name": "stdout",
     "output_type": "stream",
     "text": [
      "<class 'pandas.core.frame.DataFrame'>\n",
      "RangeIndex: 565892 entries, 0 to 565891\n",
      "Data columns (total 55 columns):\n",
      " #   Column                              Non-Null Count   Dtype\n",
      "---  ------                              --------------   -----\n",
      " 0   Id                                  565892 non-null  int64\n",
      " 1   Elevation                           565892 non-null  int64\n",
      " 2   Aspect                              565892 non-null  int64\n",
      " 3   Slope                               565892 non-null  int64\n",
      " 4   Horizontal_Distance_To_Hydrology    565892 non-null  int64\n",
      " 5   Vertical_Distance_To_Hydrology      565892 non-null  int64\n",
      " 6   Horizontal_Distance_To_Roadways     565892 non-null  int64\n",
      " 7   Hillshade_9am                       565892 non-null  int64\n",
      " 8   Hillshade_Noon                      565892 non-null  int64\n",
      " 9   Hillshade_3pm                       565892 non-null  int64\n",
      " 10  Horizontal_Distance_To_Fire_Points  565892 non-null  int64\n",
      " 11  Wilderness_Area1                    565892 non-null  int64\n",
      " 12  Wilderness_Area2                    565892 non-null  int64\n",
      " 13  Wilderness_Area3                    565892 non-null  int64\n",
      " 14  Wilderness_Area4                    565892 non-null  int64\n",
      " 15  Soil_Type1                          565892 non-null  int64\n",
      " 16  Soil_Type2                          565892 non-null  int64\n",
      " 17  Soil_Type3                          565892 non-null  int64\n",
      " 18  Soil_Type4                          565892 non-null  int64\n",
      " 19  Soil_Type5                          565892 non-null  int64\n",
      " 20  Soil_Type6                          565892 non-null  int64\n",
      " 21  Soil_Type7                          565892 non-null  int64\n",
      " 22  Soil_Type8                          565892 non-null  int64\n",
      " 23  Soil_Type9                          565892 non-null  int64\n",
      " 24  Soil_Type10                         565892 non-null  int64\n",
      " 25  Soil_Type11                         565892 non-null  int64\n",
      " 26  Soil_Type12                         565892 non-null  int64\n",
      " 27  Soil_Type13                         565892 non-null  int64\n",
      " 28  Soil_Type14                         565892 non-null  int64\n",
      " 29  Soil_Type15                         565892 non-null  int64\n",
      " 30  Soil_Type16                         565892 non-null  int64\n",
      " 31  Soil_Type17                         565892 non-null  int64\n",
      " 32  Soil_Type18                         565892 non-null  int64\n",
      " 33  Soil_Type19                         565892 non-null  int64\n",
      " 34  Soil_Type20                         565892 non-null  int64\n",
      " 35  Soil_Type21                         565892 non-null  int64\n",
      " 36  Soil_Type22                         565892 non-null  int64\n",
      " 37  Soil_Type23                         565892 non-null  int64\n",
      " 38  Soil_Type24                         565892 non-null  int64\n",
      " 39  Soil_Type25                         565892 non-null  int64\n",
      " 40  Soil_Type26                         565892 non-null  int64\n",
      " 41  Soil_Type27                         565892 non-null  int64\n",
      " 42  Soil_Type28                         565892 non-null  int64\n",
      " 43  Soil_Type29                         565892 non-null  int64\n",
      " 44  Soil_Type30                         565892 non-null  int64\n",
      " 45  Soil_Type31                         565892 non-null  int64\n",
      " 46  Soil_Type32                         565892 non-null  int64\n",
      " 47  Soil_Type33                         565892 non-null  int64\n",
      " 48  Soil_Type34                         565892 non-null  int64\n",
      " 49  Soil_Type35                         565892 non-null  int64\n",
      " 50  Soil_Type36                         565892 non-null  int64\n",
      " 51  Soil_Type37                         565892 non-null  int64\n",
      " 52  Soil_Type38                         565892 non-null  int64\n",
      " 53  Soil_Type39                         565892 non-null  int64\n",
      " 54  Soil_Type40                         565892 non-null  int64\n",
      "dtypes: int64(55)\n",
      "memory usage: 237.5 MB\n"
     ]
    }
   ],
   "source": [
    "test_data.info()"
   ]
  },
  {
   "cell_type": "code",
   "execution_count": 6,
   "id": "97723cb3",
   "metadata": {
    "execution": {
     "iopub.execute_input": "2021-10-26T16:49:44.939159Z",
     "iopub.status.busy": "2021-10-26T16:49:44.937600Z",
     "iopub.status.idle": "2021-10-26T16:49:45.228273Z",
     "shell.execute_reply": "2021-10-26T16:49:45.227028Z",
     "shell.execute_reply.started": "2021-10-26T16:01:10.205667Z"
    },
    "papermill": {
     "duration": 0.314385,
     "end_time": "2021-10-26T16:49:45.228437",
     "exception": false,
     "start_time": "2021-10-26T16:49:44.914052",
     "status": "completed"
    },
    "tags": []
   },
   "outputs": [
    {
     "data": {
      "text/plain": [
       "<AxesSubplot:ylabel='Frequency'>"
      ]
     },
     "execution_count": 6,
     "metadata": {},
     "output_type": "execute_result"
    },
    {
     "data": {
      "image/png": "[encoded data removed]",
      "text/plain": [
       "<Figure size 432x288 with 1 Axes>"
      ]
     },
     "metadata": {
      "needs_background": "light"
     },
     "output_type": "display_data"
    }
   ],
   "source": [
    "train_data[\"Slope\"].plot(kind='hist')"
   ]
  },
  {
   "cell_type": "code",
   "execution_count": 7,
   "id": "78a8592d",
   "metadata": {
    "execution": {
     "iopub.execute_input": "2021-10-26T16:49:45.277219Z",
     "iopub.status.busy": "2021-10-26T16:49:45.276388Z",
     "iopub.status.idle": "2021-10-26T16:49:45.565431Z",
     "shell.execute_reply": "2021-10-26T16:49:45.564773Z",
     "shell.execute_reply.started": "2021-10-26T16:01:55.080305Z"
    },
    "papermill": {
     "duration": 0.315675,
     "end_time": "2021-10-26T16:49:45.565595",
     "exception": false,
     "start_time": "2021-10-26T16:49:45.249920",
     "status": "completed"
    },
    "tags": []
   },
   "outputs": [
    {
     "data": {
      "text/plain": [
       "<AxesSubplot:ylabel='Frequency'>"
      ]
     },
     "execution_count": 7,
     "metadata": {},
     "output_type": "execute_result"
    },
    {
     "data": {
      "image/png": "[encoded data removed]",
      "text/plain": [
       "<Figure size 432x288 with 1 Axes>"
      ]
     },
     "metadata": {
      "needs_background": "light"
     },
     "output_type": "display_data"
    }
   ],
   "source": [
    "test_data[\"Slope\"].plot(kind='hist')"
   ]
  },
  {
   "cell_type": "code",
   "execution_count": 8,
   "id": "3834073f",
   "metadata": {
    "execution": {
     "iopub.execute_input": "2021-10-26T16:49:45.614993Z",
     "iopub.status.busy": "2021-10-26T16:49:45.612954Z",
     "iopub.status.idle": "2021-10-26T16:49:45.859322Z",
     "shell.execute_reply": "2021-10-26T16:49:45.859862Z",
     "shell.execute_reply.started": "2021-10-26T16:02:55.753972Z"
    },
    "papermill": {
     "duration": 0.272104,
     "end_time": "2021-10-26T16:49:45.860053",
     "exception": false,
     "start_time": "2021-10-26T16:49:45.587949",
     "status": "completed"
    },
    "tags": []
   },
   "outputs": [
    {
     "data": {
      "text/plain": [
       "<AxesSubplot:ylabel='Frequency'>"
      ]
     },
     "execution_count": 8,
     "metadata": {},
     "output_type": "execute_result"
    },
    {
     "data": {
      "image/png": "[encoded data removed]",
      "text/plain": [
       "<Figure size 432x288 with 1 Axes>"
      ]
     },
     "metadata": {
      "needs_background": "light"
     },
     "output_type": "display_data"
    }
   ],
   "source": [
    "train_data[\"Elevation\"].plot(kind='hist')"
   ]
  },
  {
   "cell_type": "code",
   "execution_count": 9,
   "id": "090a1f2a",
   "metadata": {
    "execution": {
     "iopub.execute_input": "2021-10-26T16:49:45.915175Z",
     "iopub.status.busy": "2021-10-26T16:49:45.913312Z",
     "iopub.status.idle": "2021-10-26T16:49:46.227271Z",
     "shell.execute_reply": "2021-10-26T16:49:46.226692Z",
     "shell.execute_reply.started": "2021-10-26T16:03:16.589606Z"
    },
    "papermill": {
     "duration": 0.343697,
     "end_time": "2021-10-26T16:49:46.227417",
     "exception": false,
     "start_time": "2021-10-26T16:49:45.883720",
     "status": "completed"
    },
    "tags": []
   },
   "outputs": [
    {
     "data": {
      "text/plain": [
       "<AxesSubplot:ylabel='Frequency'>"
      ]
     },
     "execution_count": 9,
     "metadata": {},
     "output_type": "execute_result"
    },
    {
     "data": {
      "image/png": "[encoded data removed]",
      "text/plain": [
       "<Figure size 432x288 with 1 Axes>"
      ]
     },
     "metadata": {
      "needs_background": "light"
     },
     "output_type": "display_data"
    }
   ],
   "source": [
    "test_data[\"Elevation\"].plot(kind='hist')"
   ]
  },
  {
   "cell_type": "code",
   "execution_count": 10,
   "id": "c2fdcf60",
   "metadata": {
    "execution": {
     "iopub.execute_input": "2021-10-26T16:49:46.284912Z",
     "iopub.status.busy": "2021-10-26T16:49:46.284203Z",
     "iopub.status.idle": "2021-10-26T16:49:46.288317Z",
     "shell.execute_reply": "2021-10-26T16:49:46.287782Z",
     "shell.execute_reply.started": "2021-10-26T16:13:49.348301Z"
    },
    "papermill": {
     "duration": 0.035833,
     "end_time": "2021-10-26T16:49:46.288472",
     "exception": false,
     "start_time": "2021-10-26T16:49:46.252639",
     "status": "completed"
    },
    "tags": []
   },
   "outputs": [
    {
     "data": {
      "text/plain": [
       "5    2160\n",
       "2    2160\n",
       "1    2160\n",
       "7    2160\n",
       "3    2160\n",
       "6    2160\n",
       "4    2160\n",
       "Name: Cover_Type, dtype: int64"
      ]
     },
     "execution_count": 10,
     "metadata": {},
     "output_type": "execute_result"
    }
   ],
   "source": [
    "train_data[\"Cover_Type\"].value_counts()"
   ]
  },
  {
   "cell_type": "code",
   "execution_count": 11,
   "id": "6f877a49",
   "metadata": {
    "execution": {
     "iopub.execute_input": "2021-10-26T16:49:46.343136Z",
     "iopub.status.busy": "2021-10-26T16:49:46.342140Z",
     "iopub.status.idle": "2021-10-26T16:49:47.442080Z",
     "shell.execute_reply": "2021-10-26T16:49:47.441429Z",
     "shell.execute_reply.started": "2021-10-26T16:33:08.875803Z"
    },
    "papermill": {
     "duration": 1.12806,
     "end_time": "2021-10-26T16:49:47.442226",
     "exception": false,
     "start_time": "2021-10-26T16:49:46.314166",
     "status": "completed"
    },
    "tags": []
   },
   "outputs": [],
   "source": [
    "from sklearn.model_selection import train_test_split"
   ]
  },
  {
   "cell_type": "code",
   "execution_count": 12,
   "id": "6a614f0e",
   "metadata": {
    "execution": {
     "iopub.execute_input": "2021-10-26T16:49:47.495498Z",
     "iopub.status.busy": "2021-10-26T16:49:47.494426Z",
     "iopub.status.idle": "2021-10-26T16:49:47.513981Z",
     "shell.execute_reply": "2021-10-26T16:49:47.513352Z",
     "shell.execute_reply.started": "2021-10-26T16:33:16.617326Z"
    },
    "papermill": {
     "duration": 0.047101,
     "end_time": "2021-10-26T16:49:47.514122",
     "exception": false,
     "start_time": "2021-10-26T16:49:47.467021",
     "status": "completed"
    },
    "tags": []
   },
   "outputs": [],
   "source": [
    "x = train_data.drop(labels=['Id','Cover_Type'],axis=1)\n",
    "y = train_data['Cover_Type']\n",
    "\n",
    "x_train,x_val,y_train,y_val=train_test_split(x,y,random_state=40)"
   ]
  },
  {
   "cell_type": "code",
   "execution_count": 13,
   "id": "098f895c",
   "metadata": {
    "execution": {
     "iopub.execute_input": "2021-10-26T16:49:47.570512Z",
     "iopub.status.busy": "2021-10-26T16:49:47.569450Z",
     "iopub.status.idle": "2021-10-26T16:49:47.573623Z",
     "shell.execute_reply": "2021-10-26T16:49:47.572784Z",
     "shell.execute_reply.started": "2021-10-26T16:33:19.555058Z"
    },
    "papermill": {
     "duration": 0.035133,
     "end_time": "2021-10-26T16:49:47.573822",
     "exception": false,
     "start_time": "2021-10-26T16:49:47.538689",
     "status": "completed"
    },
    "tags": []
   },
   "outputs": [
    {
     "name": "stdout",
     "output_type": "stream",
     "text": [
      "(11340, 54) (11340,)\n",
      "(3780, 54) (3780,)\n"
     ]
    }
   ],
   "source": [
    "print(x_train.shape,y_train.shape)\n",
    "print(x_val.shape,y_val.shape)"
   ]
  },
  {
   "cell_type": "code",
   "execution_count": 14,
   "id": "a258a9f8",
   "metadata": {
    "execution": {
     "iopub.execute_input": "2021-10-26T16:49:47.629785Z",
     "iopub.status.busy": "2021-10-26T16:49:47.629101Z",
     "iopub.status.idle": "2021-10-26T16:49:47.827429Z",
     "shell.execute_reply": "2021-10-26T16:49:47.826843Z",
     "shell.execute_reply.started": "2021-10-26T16:33:41.301975Z"
    },
    "papermill": {
     "duration": 0.227379,
     "end_time": "2021-10-26T16:49:47.827643",
     "exception": false,
     "start_time": "2021-10-26T16:49:47.600264",
     "status": "completed"
    },
    "tags": []
   },
   "outputs": [],
   "source": [
    "from sklearn.ensemble import RandomForestClassifier"
   ]
  },
  {
   "cell_type": "code",
   "execution_count": 15,
   "id": "07ba9b98",
   "metadata": {
    "execution": {
     "iopub.execute_input": "2021-10-26T16:49:47.886609Z",
     "iopub.status.busy": "2021-10-26T16:49:47.885908Z",
     "iopub.status.idle": "2021-10-26T16:49:49.394628Z",
     "shell.execute_reply": "2021-10-26T16:49:49.394013Z",
     "shell.execute_reply.started": "2021-10-26T16:34:30.841119Z"
    },
    "papermill": {
     "duration": 1.540814,
     "end_time": "2021-10-26T16:49:49.394791",
     "exception": false,
     "start_time": "2021-10-26T16:49:47.853977",
     "status": "completed"
    },
    "tags": []
   },
   "outputs": [
    {
     "data": {
      "text/plain": [
       "RandomForestClassifier(n_estimators=70)"
      ]
     },
     "execution_count": 15,
     "metadata": {},
     "output_type": "execute_result"
    }
   ],
   "source": [
    "rdfc = RandomForestClassifier(n_estimators = 70)\n",
    "rdfc.fit(x_train,y_train)"
   ]
  },
  {
   "cell_type": "code",
   "execution_count": 16,
   "id": "391a2f64",
   "metadata": {
    "execution": {
     "iopub.execute_input": "2021-10-26T16:49:49.454049Z",
     "iopub.status.busy": "2021-10-26T16:49:49.453053Z",
     "iopub.status.idle": "2021-10-26T16:49:49.534323Z",
     "shell.execute_reply": "2021-10-26T16:49:49.533774Z",
     "shell.execute_reply.started": "2021-10-26T16:35:04.848470Z"
    },
    "papermill": {
     "duration": 0.113325,
     "end_time": "2021-10-26T16:49:49.534490",
     "exception": false,
     "start_time": "2021-10-26T16:49:49.421165",
     "status": "completed"
    },
    "tags": []
   },
   "outputs": [
    {
     "data": {
      "text/plain": [
       "0.8605820105820106"
      ]
     },
     "execution_count": 16,
     "metadata": {},
     "output_type": "execute_result"
    }
   ],
   "source": [
    "rdfc.score(x_val,y_val)"
   ]
  },
  {
   "cell_type": "code",
   "execution_count": 17,
   "id": "6e2487ea",
   "metadata": {
    "execution": {
     "iopub.execute_input": "2021-10-26T16:49:49.672738Z",
     "iopub.status.busy": "2021-10-26T16:49:49.672050Z",
     "iopub.status.idle": "2021-10-26T16:49:56.391487Z",
     "shell.execute_reply": "2021-10-26T16:49:56.392043Z",
     "shell.execute_reply.started": "2021-10-26T16:36:13.620894Z"
    },
    "papermill": {
     "duration": 6.832046,
     "end_time": "2021-10-26T16:49:56.392216",
     "exception": false,
     "start_time": "2021-10-26T16:49:49.560170",
     "status": "completed"
    },
    "tags": []
   },
   "outputs": [],
   "source": [
    "prediction = rdfc.predict(test_data.drop(labels=['Id'],axis=1))"
   ]
  },
  {
   "cell_type": "code",
   "execution_count": 18,
   "id": "43167471",
   "metadata": {
    "execution": {
     "iopub.execute_input": "2021-10-26T16:49:56.446749Z",
     "iopub.status.busy": "2021-10-26T16:49:56.446130Z",
     "iopub.status.idle": "2021-10-26T16:49:56.454224Z",
     "shell.execute_reply": "2021-10-26T16:49:56.454784Z",
     "shell.execute_reply.started": "2021-10-26T16:41:28.602672Z"
    },
    "papermill": {
     "duration": 0.036891,
     "end_time": "2021-10-26T16:49:56.454960",
     "exception": false,
     "start_time": "2021-10-26T16:49:56.418069",
     "status": "completed"
    },
    "tags": []
   },
   "outputs": [
    {
     "data": {
      "text/html": [
       "<div>\n",
       "<style scoped>\n",
       "    .dataframe tbody tr th:only-of-type {\n",
       "        vertical-align: middle;\n",
       "    }\n",
       "\n",
       "    .dataframe tbody tr th {\n",
       "        vertical-align: top;\n",
       "    }\n",
       "\n",
       "    .dataframe thead th {\n",
       "        text-align: right;\n",
       "    }\n",
       "</style>\n",
       "<table border=\"1\" class=\"dataframe\">\n",
       "  <thead>\n",
       "    <tr style=\"text-align: right;\">\n",
       "      <th></th>\n",
       "      <th>Cover_Type</th>\n",
       "    </tr>\n",
       "  </thead>\n",
       "  <tbody>\n",
       "    <tr>\n",
       "      <th>0</th>\n",
       "      <td>2</td>\n",
       "    </tr>\n",
       "    <tr>\n",
       "      <th>1</th>\n",
       "      <td>2</td>\n",
       "    </tr>\n",
       "    <tr>\n",
       "      <th>2</th>\n",
       "      <td>2</td>\n",
       "    </tr>\n",
       "    <tr>\n",
       "      <th>3</th>\n",
       "      <td>1</td>\n",
       "    </tr>\n",
       "    <tr>\n",
       "      <th>4</th>\n",
       "      <td>2</td>\n",
       "    </tr>\n",
       "  </tbody>\n",
       "</table>\n",
       "</div>"
      ],
      "text/plain": [
       "   Cover_Type\n",
       "0           2\n",
       "1           2\n",
       "2           2\n",
       "3           1\n",
       "4           2"
      ]
     },
     "execution_count": 18,
     "metadata": {},
     "output_type": "execute_result"
    }
   ],
   "source": [
    "Final = pd.DataFrame(data=prediction,columns=['Cover_Type'])\n",
    "Final.head()"
   ]
  },
  {
   "cell_type": "code",
   "execution_count": 19,
   "id": "1ad27302",
   "metadata": {
    "execution": {
     "iopub.execute_input": "2021-10-26T16:49:56.511068Z",
     "iopub.status.busy": "2021-10-26T16:49:56.510318Z",
     "iopub.status.idle": "2021-10-26T16:49:56.515790Z",
     "shell.execute_reply": "2021-10-26T16:49:56.516374Z",
     "shell.execute_reply.started": "2021-10-26T16:41:55.054097Z"
    },
    "papermill": {
     "duration": 0.035501,
     "end_time": "2021-10-26T16:49:56.516560",
     "exception": false,
     "start_time": "2021-10-26T16:49:56.481059",
     "status": "completed"
    },
    "tags": []
   },
   "outputs": [],
   "source": [
    "Final['Id']=test_data['Id']\n",
    "Final.set_index('Id',inplace=True)"
   ]
  },
  {
   "cell_type": "code",
   "execution_count": 20,
   "id": "1883ba7a",
   "metadata": {
    "execution": {
     "iopub.execute_input": "2021-10-26T16:49:56.572442Z",
     "iopub.status.busy": "2021-10-26T16:49:56.571787Z",
     "iopub.status.idle": "2021-10-26T16:49:56.579847Z",
     "shell.execute_reply": "2021-10-26T16:49:56.579169Z",
     "shell.execute_reply.started": "2021-10-26T16:42:05.586706Z"
    },
    "papermill": {
     "duration": 0.036701,
     "end_time": "2021-10-26T16:49:56.580003",
     "exception": false,
     "start_time": "2021-10-26T16:49:56.543302",
     "status": "completed"
    },
    "tags": []
   },
   "outputs": [
    {
     "data": {
      "text/html": [
       "<div>\n",
       "<style scoped>\n",
       "    .dataframe tbody tr th:only-of-type {\n",
       "        vertical-align: middle;\n",
       "    }\n",
       "\n",
       "    .dataframe tbody tr th {\n",
       "        vertical-align: top;\n",
       "    }\n",
       "\n",
       "    .dataframe thead th {\n",
       "        text-align: right;\n",
       "    }\n",
       "</style>\n",
       "<table border=\"1\" class=\"dataframe\">\n",
       "  <thead>\n",
       "    <tr style=\"text-align: right;\">\n",
       "      <th></th>\n",
       "      <th>Cover_Type</th>\n",
       "    </tr>\n",
       "    <tr>\n",
       "      <th>Id</th>\n",
       "      <th></th>\n",
       "    </tr>\n",
       "  </thead>\n",
       "  <tbody>\n",
       "    <tr>\n",
       "      <th>15121</th>\n",
       "      <td>2</td>\n",
       "    </tr>\n",
       "    <tr>\n",
       "      <th>15122</th>\n",
       "      <td>2</td>\n",
       "    </tr>\n",
       "    <tr>\n",
       "      <th>15123</th>\n",
       "      <td>2</td>\n",
       "    </tr>\n",
       "    <tr>\n",
       "      <th>15124</th>\n",
       "      <td>1</td>\n",
       "    </tr>\n",
       "    <tr>\n",
       "      <th>15125</th>\n",
       "      <td>2</td>\n",
       "    </tr>\n",
       "  </tbody>\n",
       "</table>\n",
       "</div>"
      ],
      "text/plain": [
       "       Cover_Type\n",
       "Id               \n",
       "15121           2\n",
       "15122           2\n",
       "15123           2\n",
       "15124           1\n",
       "15125           2"
      ]
     },
     "execution_count": 20,
     "metadata": {},
     "output_type": "execute_result"
    }
   ],
   "source": [
    "Final.head()"
   ]
  },
  {
   "cell_type": "code",
   "execution_count": 21,
   "id": "0e5eee55",
   "metadata": {
    "execution": {
     "iopub.execute_input": "2021-10-26T16:49:56.638183Z",
     "iopub.status.busy": "2021-10-26T16:49:56.637411Z",
     "iopub.status.idle": "2021-10-26T16:49:57.890433Z",
     "shell.execute_reply": "2021-10-26T16:49:57.891038Z",
     "shell.execute_reply.started": "2021-10-26T16:42:36.939186Z"
    },
    "papermill": {
     "duration": 1.283732,
     "end_time": "2021-10-26T16:49:57.891219",
     "exception": false,
     "start_time": "2021-10-26T16:49:56.607487",
     "status": "completed"
    },
    "tags": []
   },
   "outputs": [],
   "source": [
    "Final.to_csv(\"Result.csv\")"
   ]
  }
 ],
 "metadata": {
  "kernelspec": {
   "display_name": "Python 3",
   "language": "python",
   "name": "python3"
  },
  "language_info": {
   "codemirror_mode": {
    "name": "ipython",
    "version": 3
   },
   "file_extension": ".py",
   "mimetype": "text/x-python",
   "name": "python",
   "nbconvert_exporter": "python",
   "pygments_lexer": "ipython3",
   "version": "3.7.10"
  },
  "papermill": {
   "default_parameters": {},
   "duration": 26.465557,
   "end_time": "2021-10-26T16:49:58.629219",
   "environment_variables": {},
   "exception": null,
   "input_path": "__notebook__.ipynb",
   "output_path": "__notebook__.ipynb",
   "parameters": {},
   "start_time": "2021-10-26T16:49:32.163662",
   "version": "2.3.3"
  }
 },
 "nbformat": 4,
 "nbformat_minor": 5
}
